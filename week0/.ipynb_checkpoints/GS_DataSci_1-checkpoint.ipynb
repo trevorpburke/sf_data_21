{
 "cells": [
  {
   "cell_type": "markdown",
   "metadata": {},
   "source": [
    "# General Assembly Data Sciene Class 1"
   ]
  },
  {
   "cell_type": "markdown",
   "metadata": {
    "collapsed": true
   },
   "source": [
    "### Lesson Objectives \n",
    "  * Roles and compenents of Learning Environment\n",
    "  * Define Data Science and Data Science Workflow \n",
    "  * Apply workflow to meet your classmates \n",
    "  * Environment Setup"
   ]
  },
  {
   "cell_type": "markdown",
   "metadata": {},
   "source": [
    "#### Data Science Baseline Quiz\n",
    "1. True or False: Gender (coded male=0, female=1) is a continuous variable. \n",
    "  1. False. It's a classification variable. \n",
    "2. According to the table on the next slide, BMI is the ____\n",
    "  2. ~~Predictor~~ Outcome\n",
    "3. Draw a normal distribution \n",
    "  3. See In [2]\n",
    "4. True or False: Linear regression is an unsupervised learning algorithm.\n",
    "  4. False. Linear regression is supervised learning because there are predictors and response variables. \n",
    "5. What is a hypothesis test? \n",
    "  5. A statement of what the experimenter believes to be the outcome. (Not sure about this question)\n",
    "   5. (Need to look back into basics stats)"
   ]
  },
  {
   "cell_type": "code",
   "execution_count": 5,
   "metadata": {
    "collapsed": false
   },
   "outputs": [
    {
     "data": {
      "image/png": "[encoded data removed]",
      "text/plain": [
       "<matplotlib.figure.Figure at 0x1106aba50>"
      ]
     },
     "metadata": {},
     "output_type": "display_data"
    }
   ],
   "source": [
    "import matplotlib.pyplot as plt\n",
    "import numpy as np\n",
    "import matplotlib.mlab as mlab\n",
    "import math\n",
    "% matplotlib inline\n",
    "\n",
    "mean = 0\n",
    "variance = 1\n",
    "sigma = math.sqrt(variance)\n",
    "x = np.linspace(-3,3,100)\n",
    "plt.plot(x,mlab.normpdf(x,mean,sigma))\n",
    "\n",
    "plt.show()"
   ]
  },
  {
   "cell_type": "markdown",
   "metadata": {},
   "source": []
  }
 ],
 "metadata": {
  "kernelspec": {
   "display_name": "Python 2",
   "language": "python",
   "name": "python2"
  },
  "language_info": {
   "codemirror_mode": {
    "name": "ipython",
    "version": 2
   },
   "file_extension": ".py",
   "mimetype": "text/x-python",
   "name": "python",
   "nbconvert_exporter": "python",
   "pygments_lexer": "ipython2",
   "version": "2.7.10"
  }
 },
 "nbformat": 4,
 "nbformat_minor": 0
}
