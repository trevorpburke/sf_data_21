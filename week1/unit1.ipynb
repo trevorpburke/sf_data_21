{
 "cells": [
  {
   "cell_type": "markdown",
   "metadata": {},
   "source": [
    "# Unit Project 1: Research Design Write-Up\n",
    "Trevor Burke"
   ]
  },
  {
   "cell_type": "markdown",
   "metadata": {},
   "source": [
    "## Prompt \n",
    "Welcome to Data Science! In this first project you will create a framework to scope out data science projects. This framework will provide you with a guide to develop a well-articulated problem statement and analysis plan that will be robust and reproducible."
   ]
  },
  {
   "cell_type": "markdown",
   "metadata": {},
   "source": [
    "### Identify features of the dataset, including the outcome and covariates/predictors.\n",
    "\n",
    "The columns \"gre\", \"gpa\", and \"prestige\" are all predictors for the outcome, \"admit\", which is indicated by a 0 (not admitted) or a 1 (admitted)."
   ]
  },
  {
   "cell_type": "markdown",
   "metadata": {},
   "source": [
    "### Create a data dictionary with classification of available variables.\n",
    "\n",
    "| Variable      | Description              | Type of Variable  |\n",
    "| ------------- |:------------------------:| -----------------:|\n",
    "| admit         | admitted or not admitted | categorical       |\n",
    "| gre           | GRE Score                | continuous        |\n",
    "| gpa           | Grade Point Average      | continuous        |\n",
    "| prestige      | Rank at undergrad        | categorical       |\n"
   ]
  },
  {
   "cell_type": "markdown",
   "metadata": {},
   "source": [
    "### Write a high quality problem statement.\n",
    "Determine which graduate school applicants will be granted admission(1=admitted, 0=not admitted), using Graduate Record Examination scores, Grade Point Average, and undergraduate class rank \n",
    "\n",
    "Predict graduate school applicant admission using Graduate Record Examination scores, Grade Point Average, and undergraduate class rank based on data collected during  \n",
    "\n",
    "My Answer\n",
    "\n",
    "College admissions departments weigh several different applicant attributes when deciding to admit or not admit a student. Graduate Record Examinations provide recent indicators of applicants' breadth and level of knowledge. Grade Point Average can show an applicant's work ethic in their undergraduate studies. And applicant rank, or 'prestige,' allows the admissions team to compare the applicant to his or her undergraduate peers. \n",
    "\n",
    "A strong applicant will possess high marks in all three cateogries: GPA, GRE, and Rank. However, relying solely upon GRE, GPA, and Prestige to predict an applicant admission can incorrectly predict admission. External factors, not included or indicated by the predictors can skew predictions. \n",
    "\n",
    "Sample\n",
    "\n",
    "Determine which free-tier customers will covert to paying customers, using demographic data collected at signup (age, gender, location, and profession) and customer useage data (days since last log in, and activity score 1 = active user, 0 = inactive user) based on Hooli data from Jan-Apr 2015.\n"
   ]
  },
  {
   "cell_type": "markdown",
   "metadata": {},
   "source": [
    "### State the risks and assumptions of your data.\n"
   ]
  },
  {
   "cell_type": "markdown",
   "metadata": {},
   "source": [
    "### Outline exploratory analysis methods.\n"
   ]
  },
  {
   "cell_type": "markdown",
   "metadata": {},
   "source": [
    "### Practice writing an alternative problem statement for your dataset.\n"
   ]
  },
  {
   "cell_type": "markdown",
   "metadata": {},
   "source": [
    "### Articulate the risks and assumptions of this alternative model.\n"
   ]
  }
 ],
 "metadata": {
  "kernelspec": {
   "display_name": "Python 2",
   "language": "python",
   "name": "python2"
  },
  "language_info": {
   "codemirror_mode": {
    "name": "ipython",
    "version": 2
   },
   "file_extension": ".py",
   "mimetype": "text/x-python",
   "name": "python",
   "nbconvert_exporter": "python",
   "pygments_lexer": "ipython2",
   "version": "2.7.10"
  }
 },
 "nbformat": 4,
 "nbformat_minor": 0
}
